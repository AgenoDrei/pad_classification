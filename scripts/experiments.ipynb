{
 "cells": [
  {
   "cell_type": "code",
   "execution_count": 8,
   "metadata": {
    "collapsed": true
   },
   "outputs": [],
   "source": [
    "import os\n",
    "import cv2\n",
    "import numpy as np\n",
    "import pandas as pd"
   ]
  },
  {
   "cell_type": "code",
   "execution_count": 9,
   "outputs": [],
   "source": [
    "base_path = '/home/simon/Data/pAVK_dataset/'\n",
    "files = os.listdir(base_path + 'Color_anonym')\n",
    "df = pd.read_excel(base_path + 'Datenliste pAVK 2.2 MW.xlsx', sheet_name='f_R', header=[0, 1, 2, 3], engine='openpyxl')\n",
    "df.head()"
   ],
   "metadata": {
    "collapsed": false,
    "pycharm": {
     "name": "#%%\n"
    }
   }
  },
  {
   "cell_type": "code",
   "execution_count": 10,
   "outputs": [
    {
     "name": "stdout",
     "output_type": "stream",
     "text": [
      "Num examinations: 77, mean: 69.18181818181819, std: 9.56010008197256\n",
      "Control examinations: 57, mean: 67.57894736842105, std: 9.540214732257382\n"
     ]
    }
   ],
   "source": [
    "ages = []\n",
    "seen_patients = []\n",
    "# Extract ages from known entities\n",
    "for row in df.itertuples(index=False):\n",
    "    if row[0] + '.jpg' not in files:\n",
    "        continue\n",
    "    if row[0][:-1] in seen_patients:\n",
    "        continue\n",
    "        # pass\n",
    "    ages.append((row[4], row[1], row[5])) # (age, group[0/1], sex[1=male])\n",
    "    seen_patients.append(row[0][:-1])\n",
    "\n",
    "# Add ages for additional controls manually (twice for two eyes)\n",
    "ages.append((89, 0, 0))\n",
    "#ages.append((89, 0, 0))\n",
    "ages.append((86, 0, 1))\n",
    "#ages.append((86, 0, 1))\n",
    "\n",
    "filtered_ages = [a[0] for a in ages if a[1] == 1] #and a[2] == 0]\n",
    "\n",
    "print(f'Num examinations: {len(ages)}, mean: {np.mean([a[0] for a in ages])}, std: {np.std([a[0] for a in ages])}')\n",
    "print(f'Control examinations: {len(filtered_ages)}, mean: {np.mean(filtered_ages)}, std: {np.std(filtered_ages)}')"
   ],
   "metadata": {
    "collapsed": false,
    "pycharm": {
     "name": "#%%\n"
    }
   }
  },
  {
   "cell_type": "code",
   "execution_count": 16,
   "outputs": [
    {
     "data": {
      "text/plain": "True"
     },
     "execution_count": 16,
     "metadata": {},
     "output_type": "execute_result"
    }
   ],
   "source": [
    "# Read the images to be aligned\n",
    "im1_gray =  cv2.imread(\"/home/simon/Pictures/comp_res/ST0352R.jpg\", 0)\n",
    "im2_gray =  cv2.imread(\"/home/simon/Pictures/comp_res/299_ST0352R.jpg\", 0)\n",
    "im2 = cv2.imread(\"/home/simon/Pictures/comp_res/299_ST0352R.jpg\")\n",
    "\n",
    "# Find size of image1\n",
    "sz = im1_gray.shape\n",
    "# Define the motion model\n",
    "warp_mode = cv2.MOTION_TRANSLATION\n",
    "\n",
    "# Define 2x3 or 3x3 matrices and initialize the matrix to identity\n",
    "if warp_mode == cv2.MOTION_HOMOGRAPHY:\n",
    "    warp_matrix = np.eye(3, 3, dtype=np.float32)\n",
    "else:\n",
    "    warp_matrix = np.eye(2, 3, dtype=np.float32)\n",
    "\n",
    "number_of_iterations = 5000\n",
    "termination_eps = 1e-10\n",
    "criteria = (cv2.TERM_CRITERIA_EPS | cv2.TERM_CRITERIA_COUNT, number_of_iterations,  termination_eps)\n",
    "\n",
    "# Run the ECC algorithm. The results are stored in warp_matrix.\n",
    "(cc, warp_matrix) = cv2.findTransformECC (im1_gray,im2_gray,warp_matrix, warp_mode, criteria, None)\n",
    "\n",
    "if warp_mode == cv2.MOTION_HOMOGRAPHY:\n",
    "    im2_aligned = cv2.warpPerspective (im2_gray, warp_matrix, (sz[1],sz[0]), flags=cv2.INTER_LINEAR + cv2.WARP_INVERSE_MAP)\n",
    "else:\n",
    "    im2_aligned = cv2.warpAffine(im2, warp_matrix, (sz[1],sz[0]), flags=cv2.INTER_LINEAR + cv2.WARP_INVERSE_MAP)\n",
    "\n",
    "# Show final results\n",
    "cv2.namedWindow('Main', cv2.WINDOW_NORMAL)\n",
    "cv2.resizeWindow('Main', 800, 800)\n",
    "cv2.imshow(\"Main\", im1_gray)\n",
    "cv2.waitKey(2000)\n",
    "cv2.imshow(\"Main\", im2_gray)\n",
    "cv2.waitKey(2000)\n",
    "cv2.imshow(\"Main\", im2_aligned)\n",
    "cv2.waitKey(2000)\n",
    "cv2.destroyAllWindows()\n",
    "\n",
    "cv2.imwrite('/home/simon/Pictures/comp_res/299_aligned_ST0352R.jpg', im2_aligned)"
   ],
   "metadata": {
    "collapsed": false,
    "pycharm": {
     "name": "#%%\n"
    }
   }
  },
  {
   "cell_type": "code",
   "execution_count": null,
   "outputs": [],
   "source": [],
   "metadata": {
    "collapsed": false,
    "pycharm": {
     "name": "#%%\n"
    }
   }
  }
 ],
 "metadata": {
  "kernelspec": {
   "display_name": "Python 3",
   "language": "python",
   "name": "python3"
  },
  "language_info": {
   "codemirror_mode": {
    "name": "ipython",
    "version": 2
   },
   "file_extension": ".py",
   "mimetype": "text/x-python",
   "name": "python",
   "nbconvert_exporter": "python",
   "pygments_lexer": "ipython2",
   "version": "2.7.6"
  }
 },
 "nbformat": 4,
 "nbformat_minor": 0
}
