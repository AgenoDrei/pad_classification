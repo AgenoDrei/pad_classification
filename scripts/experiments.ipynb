{
 "cells": [
  {
   "cell_type": "code",
   "execution_count": 8,
   "metadata": {
    "collapsed": true
   },
   "outputs": [],
   "source": [
    "import os\n",
    "import cv2\n",
    "import numpy as np\n",
    "import pandas as pd"
   ]
  },
  {
   "cell_type": "code",
   "execution_count": 9,
   "outputs": [
    {
     "data": {
      "text/plain": "  Unnamed: 0_level_0           Unnamed: 1_level_0 Unnamed: 2_level_0  \\\n                  ID Group \\n(0=control)\\n(1=PAD)           Lastname   \n  Unnamed: 0_level_2           Unnamed: 1_level_2 Unnamed: 2_level_2   \n                  ID                        Group           Lastname   \n0            AR0451R                            1             Alheit   \n1            AR0451L                            1             Alheit   \n2            AB0949R                            1             Anhalt   \n3            AB0949L                            1             Anhalt   \n4            AM0459R                            0            Avijgan   \n\n  Unnamed: 3_level_0 Unnamed: 4_level_0               Unnamed: 5_level_0  \\\n           Firstname             Age \\n Sex\\n(0= masculine)\\n(1= female)   \n  Unnamed: 3_level_2 Unnamed: 4_level_2               Unnamed: 5_level_2   \n           Firstname               Age                               Sex   \n0            Reimund                 67                                0   \n1            Reimund                 67                                0   \n2           Brigitte                 69                                1   \n3           Brigitte                 69                                1   \n4             Mahanz                 59                                1   \n\n  Unnamed: 6_level_0      BCVA\\n logMAR               BCVA  3x3 OCTA _Central  \\\n                 Eye Unnamed: 7_level_1 Unnamed: 8_level_1 Unnamed: 9_level_1   \n  Unnamed: 6_level_2 Unnamed: 7_level_2 Unnamed: 8_level_2               SSI    \n                 Eye             LOGMAR               BCVA       SSI_3x3_cent   \n0                  R                0.0                1.0               10.0   \n1                  L                0.0                1.0               10.0   \n2                  R                0.0                1.0                9.0   \n3                  L                0.1                0.8               10.0   \n4                  R                0.0                1.0               10.0   \n\n   ...                      Drugs                            \\\n   ...       Unnamed: 118_level_1      Unnamed: 119_level_1   \n   ... Marcumar\\n( 0=no)\\n(1=yes) Insulin\\n( 0=no)\\n(1=yes)   \n   ...                   MARCUMAR                   INSULIN   \n0  ...                        0.0                       0.0   \n1  ...                        0.0                       0.0   \n2  ...                        0.0                       0.0   \n3  ...                        0.0                       0.0   \n4  ...                        0.0                       0.0   \n\n                                              \\\n                        Unnamed: 120_level_1   \n  Metformin/\\nAntidiabetic\\n( 0=no)\\n(1=yes)   \n                                   METFORMIN   \n0                                        0.0   \n1                                        0.0   \n2                                        0.0   \n3                                        0.0   \n4                                        0.0   \n\n                                                              OCT-A  \\\n                                               Unnamed: 121_level_1   \n  OCT-A 3x3 central\\n(0 = good)\\n(1 = intermediate)\\n(2 = excluded)   \n                                                     GRADE_3x3 cent   \n0                                                1.0                  \n1                                                0.0                  \n2                                                0.0                  \n3                                                0.0                  \n4                                                0.0                  \n\n                                                                      \\\n                                                Unnamed: 122_level_1   \n  OCT-A 3x3 temporal\\n(0 = good)\\n(1 = intermediate)\\n(2 = excluded)   \n                                                      GRADE_3x3 temp   \n0                                                  0                   \n1                                                  0                   \n2                                                  0                   \n3                                                  0                   \n4                                                  0                   \n\n                                                                    \\\n                                              Unnamed: 123_level_1   \n  OCTA 6x6 central\\n(0 = good)\\n(1 = intermediate)\\n(2 = excluded)   \n                                                    GRADE_6x6 cent   \n0                                                  0                 \n1                                                  0                 \n2                                                  0                 \n3                                                  0                 \n4                                                  0                 \n\n                                                                          \\\n                                                    Unnamed: 124_level_1   \n  OCTA 6x6 peripapillary\\n(0 = good)\\n(1 = intermediate)\\n(2 = excluded)   \n                                                          GRADE_6x6_peri   \n0                                                  0                       \n1                                                  0                       \n2                                                  1                       \n3                                                  1                       \n4                                                0-1                       \n\n                                                  EIDON  \\\n                                   Unnamed: 125_level_1   \n  Color\\n(0 = good)\\n(1 = intermediate)\\n(2 = excluded)   \n                                            Grade_color   \n0                                                  0      \n1                                                  0      \n2                                                  0      \n3                                                  0      \n4                                                  1      \n\n                                                      \\\n                                Unnamed: 126_level_1   \n  IR\\n(0 = good)\\n(1 = intermediate)\\n(2 = excluded)   \n                                            Grade_IR   \n0                                                  0   \n1                                                  1   \n2                                                  0   \n3                                                0-1   \n4                                                NaN   \n\n                                                      \n                                Unnamed: 127_level_1  \n  AF\\n(0 = good)\\n(1 = intermediate)\\n(2 = excluded)  \n                                            Grade_AF  \n0                                                  0  \n1                                                  2  \n2                                                  0  \n3                                                NaN  \n4                                                NaN  \n\n[5 rows x 128 columns]",
      "text/html": "<div>\n<style scoped>\n    .dataframe tbody tr th:only-of-type {\n        vertical-align: middle;\n    }\n\n    .dataframe tbody tr th {\n        vertical-align: top;\n    }\n\n    .dataframe thead tr th {\n        text-align: left;\n    }\n</style>\n<table border=\"1\" class=\"dataframe\">\n  <thead>\n    <tr>\n      <th></th>\n      <th>Unnamed: 0_level_0</th>\n      <th>Unnamed: 1_level_0</th>\n      <th>Unnamed: 2_level_0</th>\n      <th>Unnamed: 3_level_0</th>\n      <th>Unnamed: 4_level_0</th>\n      <th>Unnamed: 5_level_0</th>\n      <th>Unnamed: 6_level_0</th>\n      <th>BCVA\\n logMAR</th>\n      <th>BCVA</th>\n      <th>3x3 OCTA _Central</th>\n      <th>...</th>\n      <th colspan=\"3\" halign=\"left\">Drugs</th>\n      <th colspan=\"4\" halign=\"left\">OCT-A</th>\n      <th colspan=\"3\" halign=\"left\">EIDON</th>\n    </tr>\n    <tr>\n      <th></th>\n      <th>ID</th>\n      <th>Group \\n(0=control)\\n(1=PAD)</th>\n      <th>Lastname</th>\n      <th>Firstname</th>\n      <th>Age \\n</th>\n      <th>Sex\\n(0= masculine)\\n(1= female)</th>\n      <th>Eye</th>\n      <th>Unnamed: 7_level_1</th>\n      <th>Unnamed: 8_level_1</th>\n      <th>Unnamed: 9_level_1</th>\n      <th>...</th>\n      <th>Unnamed: 118_level_1</th>\n      <th>Unnamed: 119_level_1</th>\n      <th>Unnamed: 120_level_1</th>\n      <th>Unnamed: 121_level_1</th>\n      <th>Unnamed: 122_level_1</th>\n      <th>Unnamed: 123_level_1</th>\n      <th>Unnamed: 124_level_1</th>\n      <th>Unnamed: 125_level_1</th>\n      <th>Unnamed: 126_level_1</th>\n      <th>Unnamed: 127_level_1</th>\n    </tr>\n    <tr>\n      <th></th>\n      <th>Unnamed: 0_level_2</th>\n      <th>Unnamed: 1_level_2</th>\n      <th>Unnamed: 2_level_2</th>\n      <th>Unnamed: 3_level_2</th>\n      <th>Unnamed: 4_level_2</th>\n      <th>Unnamed: 5_level_2</th>\n      <th>Unnamed: 6_level_2</th>\n      <th>Unnamed: 7_level_2</th>\n      <th>Unnamed: 8_level_2</th>\n      <th>SSI</th>\n      <th>...</th>\n      <th>Marcumar\\n( 0=no)\\n(1=yes)</th>\n      <th>Insulin\\n( 0=no)\\n(1=yes)</th>\n      <th>Metformin/\\nAntidiabetic\\n( 0=no)\\n(1=yes)</th>\n      <th>OCT-A 3x3 central\\n(0 = good)\\n(1 = intermediate)\\n(2 = excluded)</th>\n      <th>OCT-A 3x3 temporal\\n(0 = good)\\n(1 = intermediate)\\n(2 = excluded)</th>\n      <th>OCTA 6x6 central\\n(0 = good)\\n(1 = intermediate)\\n(2 = excluded)</th>\n      <th>OCTA 6x6 peripapillary\\n(0 = good)\\n(1 = intermediate)\\n(2 = excluded)</th>\n      <th>Color\\n(0 = good)\\n(1 = intermediate)\\n(2 = excluded)</th>\n      <th>IR\\n(0 = good)\\n(1 = intermediate)\\n(2 = excluded)</th>\n      <th>AF\\n(0 = good)\\n(1 = intermediate)\\n(2 = excluded)</th>\n    </tr>\n    <tr>\n      <th></th>\n      <th>ID</th>\n      <th>Group</th>\n      <th>Lastname</th>\n      <th>Firstname</th>\n      <th>Age</th>\n      <th>Sex</th>\n      <th>Eye</th>\n      <th>LOGMAR</th>\n      <th>BCVA</th>\n      <th>SSI_3x3_cent</th>\n      <th>...</th>\n      <th>MARCUMAR</th>\n      <th>INSULIN</th>\n      <th>METFORMIN</th>\n      <th>GRADE_3x3 cent</th>\n      <th>GRADE_3x3 temp</th>\n      <th>GRADE_6x6 cent</th>\n      <th>GRADE_6x6_peri</th>\n      <th>Grade_color</th>\n      <th>Grade_IR</th>\n      <th>Grade_AF</th>\n    </tr>\n  </thead>\n  <tbody>\n    <tr>\n      <th>0</th>\n      <td>AR0451R</td>\n      <td>1</td>\n      <td>Alheit</td>\n      <td>Reimund</td>\n      <td>67</td>\n      <td>0</td>\n      <td>R</td>\n      <td>0.0</td>\n      <td>1.0</td>\n      <td>10.0</td>\n      <td>...</td>\n      <td>0.0</td>\n      <td>0.0</td>\n      <td>0.0</td>\n      <td>1.0</td>\n      <td>0</td>\n      <td>0</td>\n      <td>0</td>\n      <td>0</td>\n      <td>0</td>\n      <td>0</td>\n    </tr>\n    <tr>\n      <th>1</th>\n      <td>AR0451L</td>\n      <td>1</td>\n      <td>Alheit</td>\n      <td>Reimund</td>\n      <td>67</td>\n      <td>0</td>\n      <td>L</td>\n      <td>0.0</td>\n      <td>1.0</td>\n      <td>10.0</td>\n      <td>...</td>\n      <td>0.0</td>\n      <td>0.0</td>\n      <td>0.0</td>\n      <td>0.0</td>\n      <td>0</td>\n      <td>0</td>\n      <td>0</td>\n      <td>0</td>\n      <td>1</td>\n      <td>2</td>\n    </tr>\n    <tr>\n      <th>2</th>\n      <td>AB0949R</td>\n      <td>1</td>\n      <td>Anhalt</td>\n      <td>Brigitte</td>\n      <td>69</td>\n      <td>1</td>\n      <td>R</td>\n      <td>0.0</td>\n      <td>1.0</td>\n      <td>9.0</td>\n      <td>...</td>\n      <td>0.0</td>\n      <td>0.0</td>\n      <td>0.0</td>\n      <td>0.0</td>\n      <td>0</td>\n      <td>0</td>\n      <td>1</td>\n      <td>0</td>\n      <td>0</td>\n      <td>0</td>\n    </tr>\n    <tr>\n      <th>3</th>\n      <td>AB0949L</td>\n      <td>1</td>\n      <td>Anhalt</td>\n      <td>Brigitte</td>\n      <td>69</td>\n      <td>1</td>\n      <td>L</td>\n      <td>0.1</td>\n      <td>0.8</td>\n      <td>10.0</td>\n      <td>...</td>\n      <td>0.0</td>\n      <td>0.0</td>\n      <td>0.0</td>\n      <td>0.0</td>\n      <td>0</td>\n      <td>0</td>\n      <td>1</td>\n      <td>0</td>\n      <td>0-1</td>\n      <td>NaN</td>\n    </tr>\n    <tr>\n      <th>4</th>\n      <td>AM0459R</td>\n      <td>0</td>\n      <td>Avijgan</td>\n      <td>Mahanz</td>\n      <td>59</td>\n      <td>1</td>\n      <td>R</td>\n      <td>0.0</td>\n      <td>1.0</td>\n      <td>10.0</td>\n      <td>...</td>\n      <td>0.0</td>\n      <td>0.0</td>\n      <td>0.0</td>\n      <td>0.0</td>\n      <td>0</td>\n      <td>0</td>\n      <td>0-1</td>\n      <td>1</td>\n      <td>NaN</td>\n      <td>NaN</td>\n    </tr>\n  </tbody>\n</table>\n<p>5 rows × 128 columns</p>\n</div>"
     },
     "execution_count": 9,
     "metadata": {},
     "output_type": "execute_result"
    }
   ],
   "source": [
    "base_path = '/home/simon/Data/pAVK_dataset/'\n",
    "files = os.listdir(base_path + 'Color_anonym')\n",
    "df = pd.read_excel(base_path + 'Datenliste pAVK 2.2 MW.xlsx', sheet_name='f_R', header=[0, 1, 2, 3], engine='openpyxl')\n",
    "df.head()"
   ],
   "metadata": {
    "collapsed": false,
    "pycharm": {
     "name": "#%%\n"
    }
   }
  },
  {
   "cell_type": "code",
   "execution_count": 10,
   "outputs": [
    {
     "name": "stdout",
     "output_type": "stream",
     "text": [
      "Num examinations: 77, mean: 69.18181818181819, std: 9.56010008197256\n",
      "Control examinations: 57, mean: 67.57894736842105, std: 9.540214732257382\n"
     ]
    }
   ],
   "source": [
    "ages = []\n",
    "seen_patients = []\n",
    "# Extract ages from known entities\n",
    "for row in df.itertuples(index=False):\n",
    "    if row[0] + '.jpg' not in files:\n",
    "        continue\n",
    "    if row[0][:-1] in seen_patients:\n",
    "        continue\n",
    "        # pass\n",
    "    ages.append((row[4], row[1], row[5])) # (age, group[0/1], sex[1=male])\n",
    "    seen_patients.append(row[0][:-1])\n",
    "\n",
    "# Add ages for additional controls manually (twice for two eyes)\n",
    "ages.append((89, 0, 0))\n",
    "#ages.append((89, 0, 0))\n",
    "ages.append((86, 0, 1))\n",
    "#ages.append((86, 0, 1))\n",
    "\n",
    "filtered_ages = [a[0] for a in ages if a[1] == 1] #and a[2] == 0]\n",
    "\n",
    "print(f'Num examinations: {len(ages)}, mean: {np.mean([a[0] for a in ages])}, std: {np.std([a[0] for a in ages])}')\n",
    "print(f'Control examinations: {len(filtered_ages)}, mean: {np.mean(filtered_ages)}, std: {np.std(filtered_ages)}')"
   ],
   "metadata": {
    "collapsed": false,
    "pycharm": {
     "name": "#%%\n"
    }
   }
  },
  {
   "cell_type": "code",
   "execution_count": 16,
   "outputs": [
    {
     "data": {
      "text/plain": "True"
     },
     "execution_count": 16,
     "metadata": {},
     "output_type": "execute_result"
    }
   ],
   "source": [
    "# Read the images to be aligned\n",
    "im1_gray =  cv2.imread(\"/home/simon/Pictures/comp_res/ST0352R.jpg\", 0)\n",
    "im2_gray =  cv2.imread(\"/home/simon/Pictures/comp_res/299_ST0352R.jpg\", 0)\n",
    "im2 = cv2.imread(\"/home/simon/Pictures/comp_res/299_ST0352R.jpg\")\n",
    "\n",
    "# Find size of image1\n",
    "sz = im1_gray.shape\n",
    "# Define the motion model\n",
    "warp_mode = cv2.MOTION_TRANSLATION\n",
    "\n",
    "# Define 2x3 or 3x3 matrices and initialize the matrix to identity\n",
    "if warp_mode == cv2.MOTION_HOMOGRAPHY:\n",
    "    warp_matrix = np.eye(3, 3, dtype=np.float32)\n",
    "else:\n",
    "    warp_matrix = np.eye(2, 3, dtype=np.float32)\n",
    "\n",
    "number_of_iterations = 5000\n",
    "termination_eps = 1e-10\n",
    "criteria = (cv2.TERM_CRITERIA_EPS | cv2.TERM_CRITERIA_COUNT, number_of_iterations,  termination_eps)\n",
    "\n",
    "# Run the ECC algorithm. The results are stored in warp_matrix.\n",
    "(cc, warp_matrix) = cv2.findTransformECC (im1_gray,im2_gray,warp_matrix, warp_mode, criteria, None)\n",
    "\n",
    "if warp_mode == cv2.MOTION_HOMOGRAPHY:\n",
    "    im2_aligned = cv2.warpPerspective (im2_gray, warp_matrix, (sz[1],sz[0]), flags=cv2.INTER_LINEAR + cv2.WARP_INVERSE_MAP)\n",
    "else:\n",
    "    im2_aligned = cv2.warpAffine(im2, warp_matrix, (sz[1],sz[0]), flags=cv2.INTER_LINEAR + cv2.WARP_INVERSE_MAP)\n",
    "\n",
    "# Show final results\n",
    "cv2.namedWindow('Main', cv2.WINDOW_NORMAL)\n",
    "cv2.resizeWindow('Main', 800, 800)\n",
    "cv2.imshow(\"Main\", im1_gray)\n",
    "cv2.waitKey(2000)\n",
    "cv2.imshow(\"Main\", im2_gray)\n",
    "cv2.waitKey(2000)\n",
    "cv2.imshow(\"Main\", im2_aligned)\n",
    "cv2.waitKey(2000)\n",
    "cv2.destroyAllWindows()\n",
    "\n",
    "cv2.imwrite('/home/simon/Pictures/comp_res/299_aligned_ST0352R.jpg', im2_aligned)"
   ],
   "metadata": {
    "collapsed": false,
    "pycharm": {
     "name": "#%%\n"
    }
   }
  },
  {
   "cell_type": "code",
   "execution_count": null,
   "outputs": [],
   "source": [],
   "metadata": {
    "collapsed": false,
    "pycharm": {
     "name": "#%%\n"
    }
   }
  }
 ],
 "metadata": {
  "kernelspec": {
   "display_name": "Python 3",
   "language": "python",
   "name": "python3"
  },
  "language_info": {
   "codemirror_mode": {
    "name": "ipython",
    "version": 2
   },
   "file_extension": ".py",
   "mimetype": "text/x-python",
   "name": "python",
   "nbconvert_exporter": "python",
   "pygments_lexer": "ipython2",
   "version": "2.7.6"
  }
 },
 "nbformat": 4,
 "nbformat_minor": 0
}